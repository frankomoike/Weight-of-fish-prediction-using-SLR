{
 "cells": [
  {
   "cell_type": "markdown",
   "id": "3d00fc6d",
   "metadata": {},
   "source": [
    "Multivariate Linear Regression has multiple independent variables impacting the dependent variable"
   ]
  },
  {
   "cell_type": "markdown",
   "id": "5101eadc",
   "metadata": {},
   "source": [
    "#### Using a dataset of fish species to predict weight using below features\n",
    "#### Species: Species name of fish\n",
    "#### Weight: Weight of fish in gram\n",
    "#### Length1: Vertical length in cm\n",
    "#### Length2: Diagonal length in cm\n",
    "#### Length3: Cross length in cm\n",
    "#### Height: Height in cm\n",
    "#### Width: Diagonal width in cm"
   ]
  },
  {
   "cell_type": "code",
   "execution_count": 2,
   "id": "b6ef6de6",
   "metadata": {},
   "outputs": [],
   "source": [
    "# Importing necessary Libaries\n",
    "import pandas as pd\n",
    "import numpy as np\n",
    "import seaborn as sns\n",
    "import matplotlib.pyplot as plt\n",
    "from sklearn.model_selection import train_test_split\n",
    "from sklearn.preprocessing import MinMaxScaler\n",
    "%matplotlib inline"
   ]
  },
  {
   "cell_type": "code",
   "execution_count": 3,
   "id": "be173f9e",
   "metadata": {},
   "outputs": [],
   "source": [
    "fish_data = pd.read_csv('https://github.com/ybifoundation/Dataset/raw/main/Fish.csv')"
   ]
  },
  {
   "cell_type": "code",
   "execution_count": 4,
   "id": "a93446b1",
   "metadata": {},
   "outputs": [
    {
     "data": {
      "text/html": [
       "<div>\n",
       "<style scoped>\n",
       "    .dataframe tbody tr th:only-of-type {\n",
       "        vertical-align: middle;\n",
       "    }\n",
       "\n",
       "    .dataframe tbody tr th {\n",
       "        vertical-align: top;\n",
       "    }\n",
       "\n",
       "    .dataframe thead th {\n",
       "        text-align: right;\n",
       "    }\n",
       "</style>\n",
       "<table border=\"1\" class=\"dataframe\">\n",
       "  <thead>\n",
       "    <tr style=\"text-align: right;\">\n",
       "      <th></th>\n",
       "      <th>Category</th>\n",
       "      <th>Species</th>\n",
       "      <th>Weight</th>\n",
       "      <th>Height</th>\n",
       "      <th>Width</th>\n",
       "      <th>Length1</th>\n",
       "      <th>Length2</th>\n",
       "      <th>Length3</th>\n",
       "    </tr>\n",
       "  </thead>\n",
       "  <tbody>\n",
       "    <tr>\n",
       "      <th>0</th>\n",
       "      <td>1</td>\n",
       "      <td>Bream</td>\n",
       "      <td>242.0</td>\n",
       "      <td>11.5200</td>\n",
       "      <td>4.0200</td>\n",
       "      <td>23.2</td>\n",
       "      <td>25.4</td>\n",
       "      <td>30.0</td>\n",
       "    </tr>\n",
       "    <tr>\n",
       "      <th>1</th>\n",
       "      <td>1</td>\n",
       "      <td>Bream</td>\n",
       "      <td>290.0</td>\n",
       "      <td>12.4800</td>\n",
       "      <td>4.3056</td>\n",
       "      <td>24.0</td>\n",
       "      <td>26.3</td>\n",
       "      <td>31.2</td>\n",
       "    </tr>\n",
       "    <tr>\n",
       "      <th>2</th>\n",
       "      <td>1</td>\n",
       "      <td>Bream</td>\n",
       "      <td>340.0</td>\n",
       "      <td>12.3778</td>\n",
       "      <td>4.6961</td>\n",
       "      <td>23.9</td>\n",
       "      <td>26.5</td>\n",
       "      <td>31.1</td>\n",
       "    </tr>\n",
       "    <tr>\n",
       "      <th>3</th>\n",
       "      <td>1</td>\n",
       "      <td>Bream</td>\n",
       "      <td>363.0</td>\n",
       "      <td>12.7300</td>\n",
       "      <td>4.4555</td>\n",
       "      <td>26.3</td>\n",
       "      <td>29.0</td>\n",
       "      <td>33.5</td>\n",
       "    </tr>\n",
       "    <tr>\n",
       "      <th>4</th>\n",
       "      <td>1</td>\n",
       "      <td>Bream</td>\n",
       "      <td>430.0</td>\n",
       "      <td>12.4440</td>\n",
       "      <td>5.1340</td>\n",
       "      <td>26.5</td>\n",
       "      <td>29.0</td>\n",
       "      <td>34.0</td>\n",
       "    </tr>\n",
       "    <tr>\n",
       "      <th>...</th>\n",
       "      <td>...</td>\n",
       "      <td>...</td>\n",
       "      <td>...</td>\n",
       "      <td>...</td>\n",
       "      <td>...</td>\n",
       "      <td>...</td>\n",
       "      <td>...</td>\n",
       "      <td>...</td>\n",
       "    </tr>\n",
       "    <tr>\n",
       "      <th>154</th>\n",
       "      <td>6</td>\n",
       "      <td>Smelt</td>\n",
       "      <td>12.2</td>\n",
       "      <td>2.0904</td>\n",
       "      <td>1.3936</td>\n",
       "      <td>11.5</td>\n",
       "      <td>12.2</td>\n",
       "      <td>13.4</td>\n",
       "    </tr>\n",
       "    <tr>\n",
       "      <th>155</th>\n",
       "      <td>6</td>\n",
       "      <td>Smelt</td>\n",
       "      <td>13.4</td>\n",
       "      <td>2.4300</td>\n",
       "      <td>1.2690</td>\n",
       "      <td>11.7</td>\n",
       "      <td>12.4</td>\n",
       "      <td>13.5</td>\n",
       "    </tr>\n",
       "    <tr>\n",
       "      <th>156</th>\n",
       "      <td>6</td>\n",
       "      <td>Smelt</td>\n",
       "      <td>12.2</td>\n",
       "      <td>2.2770</td>\n",
       "      <td>1.2558</td>\n",
       "      <td>12.1</td>\n",
       "      <td>13.0</td>\n",
       "      <td>13.8</td>\n",
       "    </tr>\n",
       "    <tr>\n",
       "      <th>157</th>\n",
       "      <td>6</td>\n",
       "      <td>Smelt</td>\n",
       "      <td>19.7</td>\n",
       "      <td>2.8728</td>\n",
       "      <td>2.0672</td>\n",
       "      <td>13.2</td>\n",
       "      <td>14.3</td>\n",
       "      <td>15.2</td>\n",
       "    </tr>\n",
       "    <tr>\n",
       "      <th>158</th>\n",
       "      <td>6</td>\n",
       "      <td>Smelt</td>\n",
       "      <td>19.9</td>\n",
       "      <td>2.9322</td>\n",
       "      <td>1.8792</td>\n",
       "      <td>13.8</td>\n",
       "      <td>15.0</td>\n",
       "      <td>16.2</td>\n",
       "    </tr>\n",
       "  </tbody>\n",
       "</table>\n",
       "<p>159 rows × 8 columns</p>\n",
       "</div>"
      ],
      "text/plain": [
       "     Category Species  Weight   Height   Width  Length1  Length2  Length3\n",
       "0           1   Bream   242.0  11.5200  4.0200     23.2     25.4     30.0\n",
       "1           1   Bream   290.0  12.4800  4.3056     24.0     26.3     31.2\n",
       "2           1   Bream   340.0  12.3778  4.6961     23.9     26.5     31.1\n",
       "3           1   Bream   363.0  12.7300  4.4555     26.3     29.0     33.5\n",
       "4           1   Bream   430.0  12.4440  5.1340     26.5     29.0     34.0\n",
       "..        ...     ...     ...      ...     ...      ...      ...      ...\n",
       "154         6   Smelt    12.2   2.0904  1.3936     11.5     12.2     13.4\n",
       "155         6   Smelt    13.4   2.4300  1.2690     11.7     12.4     13.5\n",
       "156         6   Smelt    12.2   2.2770  1.2558     12.1     13.0     13.8\n",
       "157         6   Smelt    19.7   2.8728  2.0672     13.2     14.3     15.2\n",
       "158         6   Smelt    19.9   2.9322  1.8792     13.8     15.0     16.2\n",
       "\n",
       "[159 rows x 8 columns]"
      ]
     },
     "execution_count": 4,
     "metadata": {},
     "output_type": "execute_result"
    }
   ],
   "source": [
    "# viewing our data\n",
    "fish_data"
   ]
  },
  {
   "cell_type": "code",
   "execution_count": 6,
   "id": "15beb07a",
   "metadata": {},
   "outputs": [],
   "source": [
    "# make a copy\n",
    "fish_data1 = fish_data.copy()"
   ]
  },
  {
   "cell_type": "code",
   "execution_count": 7,
   "id": "bfbed99b",
   "metadata": {},
   "outputs": [
    {
     "data": {
      "text/html": [
       "<div>\n",
       "<style scoped>\n",
       "    .dataframe tbody tr th:only-of-type {\n",
       "        vertical-align: middle;\n",
       "    }\n",
       "\n",
       "    .dataframe tbody tr th {\n",
       "        vertical-align: top;\n",
       "    }\n",
       "\n",
       "    .dataframe thead th {\n",
       "        text-align: right;\n",
       "    }\n",
       "</style>\n",
       "<table border=\"1\" class=\"dataframe\">\n",
       "  <thead>\n",
       "    <tr style=\"text-align: right;\">\n",
       "      <th></th>\n",
       "      <th>Category</th>\n",
       "      <th>Species</th>\n",
       "      <th>Weight</th>\n",
       "      <th>Height</th>\n",
       "      <th>Width</th>\n",
       "      <th>Length1</th>\n",
       "      <th>Length2</th>\n",
       "      <th>Length3</th>\n",
       "    </tr>\n",
       "  </thead>\n",
       "  <tbody>\n",
       "    <tr>\n",
       "      <th>0</th>\n",
       "      <td>1</td>\n",
       "      <td>Bream</td>\n",
       "      <td>242.0</td>\n",
       "      <td>11.5200</td>\n",
       "      <td>4.0200</td>\n",
       "      <td>23.2</td>\n",
       "      <td>25.4</td>\n",
       "      <td>30.0</td>\n",
       "    </tr>\n",
       "    <tr>\n",
       "      <th>1</th>\n",
       "      <td>1</td>\n",
       "      <td>Bream</td>\n",
       "      <td>290.0</td>\n",
       "      <td>12.4800</td>\n",
       "      <td>4.3056</td>\n",
       "      <td>24.0</td>\n",
       "      <td>26.3</td>\n",
       "      <td>31.2</td>\n",
       "    </tr>\n",
       "    <tr>\n",
       "      <th>2</th>\n",
       "      <td>1</td>\n",
       "      <td>Bream</td>\n",
       "      <td>340.0</td>\n",
       "      <td>12.3778</td>\n",
       "      <td>4.6961</td>\n",
       "      <td>23.9</td>\n",
       "      <td>26.5</td>\n",
       "      <td>31.1</td>\n",
       "    </tr>\n",
       "    <tr>\n",
       "      <th>3</th>\n",
       "      <td>1</td>\n",
       "      <td>Bream</td>\n",
       "      <td>363.0</td>\n",
       "      <td>12.7300</td>\n",
       "      <td>4.4555</td>\n",
       "      <td>26.3</td>\n",
       "      <td>29.0</td>\n",
       "      <td>33.5</td>\n",
       "    </tr>\n",
       "    <tr>\n",
       "      <th>4</th>\n",
       "      <td>1</td>\n",
       "      <td>Bream</td>\n",
       "      <td>430.0</td>\n",
       "      <td>12.4440</td>\n",
       "      <td>5.1340</td>\n",
       "      <td>26.5</td>\n",
       "      <td>29.0</td>\n",
       "      <td>34.0</td>\n",
       "    </tr>\n",
       "  </tbody>\n",
       "</table>\n",
       "</div>"
      ],
      "text/plain": [
       "   Category Species  Weight   Height   Width  Length1  Length2  Length3\n",
       "0         1   Bream   242.0  11.5200  4.0200     23.2     25.4     30.0\n",
       "1         1   Bream   290.0  12.4800  4.3056     24.0     26.3     31.2\n",
       "2         1   Bream   340.0  12.3778  4.6961     23.9     26.5     31.1\n",
       "3         1   Bream   363.0  12.7300  4.4555     26.3     29.0     33.5\n",
       "4         1   Bream   430.0  12.4440  5.1340     26.5     29.0     34.0"
      ]
     },
     "execution_count": 7,
     "metadata": {},
     "output_type": "execute_result"
    }
   ],
   "source": [
    "fish_data.head()"
   ]
  },
  {
   "cell_type": "code",
   "execution_count": 8,
   "id": "ae616fa2",
   "metadata": {},
   "outputs": [
    {
     "name": "stdout",
     "output_type": "stream",
     "text": [
      "<class 'pandas.core.frame.DataFrame'>\n",
      "RangeIndex: 159 entries, 0 to 158\n",
      "Data columns (total 8 columns):\n",
      " #   Column    Non-Null Count  Dtype  \n",
      "---  ------    --------------  -----  \n",
      " 0   Category  159 non-null    int64  \n",
      " 1   Species   159 non-null    object \n",
      " 2   Weight    159 non-null    float64\n",
      " 3   Height    159 non-null    float64\n",
      " 4   Width     159 non-null    float64\n",
      " 5   Length1   159 non-null    float64\n",
      " 6   Length2   159 non-null    float64\n",
      " 7   Length3   159 non-null    float64\n",
      "dtypes: float64(6), int64(1), object(1)\n",
      "memory usage: 10.1+ KB\n"
     ]
    }
   ],
   "source": [
    "fish_data.info()"
   ]
  },
  {
   "cell_type": "code",
   "execution_count": 9,
   "id": "69d4fa15",
   "metadata": {},
   "outputs": [
    {
     "data": {
      "text/plain": [
       "array(['Bream', 'Roach', 'Whitefish', 'Parkki', 'Perch', 'Pike', 'Smelt'],\n",
       "      dtype=object)"
      ]
     },
     "execution_count": 9,
     "metadata": {},
     "output_type": "execute_result"
    }
   ],
   "source": [
    "# checking the object values in Species\n",
    "fish_data['Species'].unique()"
   ]
  },
  {
   "cell_type": "code",
   "execution_count": 10,
   "id": "67ad2bc2",
   "metadata": {},
   "outputs": [
    {
     "data": {
      "text/plain": [
       "Category    0\n",
       "Species     0\n",
       "Weight      0\n",
       "Height      0\n",
       "Width       0\n",
       "Length1     0\n",
       "Length2     0\n",
       "Length3     0\n",
       "dtype: int64"
      ]
     },
     "execution_count": 10,
     "metadata": {},
     "output_type": "execute_result"
    }
   ],
   "source": [
    "# checking for null values\n",
    "fish_data.isna().sum()"
   ]
  },
  {
   "cell_type": "code",
   "execution_count": 12,
   "id": "6e0ed6d1",
   "metadata": {},
   "outputs": [
    {
     "data": {
      "text/html": [
       "<div>\n",
       "<style scoped>\n",
       "    .dataframe tbody tr th:only-of-type {\n",
       "        vertical-align: middle;\n",
       "    }\n",
       "\n",
       "    .dataframe tbody tr th {\n",
       "        vertical-align: top;\n",
       "    }\n",
       "\n",
       "    .dataframe thead th {\n",
       "        text-align: right;\n",
       "    }\n",
       "</style>\n",
       "<table border=\"1\" class=\"dataframe\">\n",
       "  <thead>\n",
       "    <tr style=\"text-align: right;\">\n",
       "      <th></th>\n",
       "      <th>Category</th>\n",
       "      <th>Weight</th>\n",
       "      <th>Height</th>\n",
       "      <th>Width</th>\n",
       "      <th>Length1</th>\n",
       "      <th>Length2</th>\n",
       "      <th>Length3</th>\n",
       "    </tr>\n",
       "  </thead>\n",
       "  <tbody>\n",
       "    <tr>\n",
       "      <th>count</th>\n",
       "      <td>159.000000</td>\n",
       "      <td>159.000000</td>\n",
       "      <td>159.000000</td>\n",
       "      <td>159.000000</td>\n",
       "      <td>159.000000</td>\n",
       "      <td>159.000000</td>\n",
       "      <td>159.000000</td>\n",
       "    </tr>\n",
       "    <tr>\n",
       "      <th>mean</th>\n",
       "      <td>3.264151</td>\n",
       "      <td>398.326415</td>\n",
       "      <td>8.970994</td>\n",
       "      <td>4.417486</td>\n",
       "      <td>26.247170</td>\n",
       "      <td>28.415723</td>\n",
       "      <td>31.227044</td>\n",
       "    </tr>\n",
       "    <tr>\n",
       "      <th>std</th>\n",
       "      <td>1.704249</td>\n",
       "      <td>357.978317</td>\n",
       "      <td>4.286208</td>\n",
       "      <td>1.685804</td>\n",
       "      <td>9.996441</td>\n",
       "      <td>10.716328</td>\n",
       "      <td>11.610246</td>\n",
       "    </tr>\n",
       "    <tr>\n",
       "      <th>min</th>\n",
       "      <td>1.000000</td>\n",
       "      <td>0.000000</td>\n",
       "      <td>1.728400</td>\n",
       "      <td>1.047600</td>\n",
       "      <td>7.500000</td>\n",
       "      <td>8.400000</td>\n",
       "      <td>8.800000</td>\n",
       "    </tr>\n",
       "    <tr>\n",
       "      <th>25%</th>\n",
       "      <td>2.000000</td>\n",
       "      <td>120.000000</td>\n",
       "      <td>5.944800</td>\n",
       "      <td>3.385650</td>\n",
       "      <td>19.050000</td>\n",
       "      <td>21.000000</td>\n",
       "      <td>23.150000</td>\n",
       "    </tr>\n",
       "    <tr>\n",
       "      <th>50%</th>\n",
       "      <td>3.000000</td>\n",
       "      <td>273.000000</td>\n",
       "      <td>7.786000</td>\n",
       "      <td>4.248500</td>\n",
       "      <td>25.200000</td>\n",
       "      <td>27.300000</td>\n",
       "      <td>29.400000</td>\n",
       "    </tr>\n",
       "    <tr>\n",
       "      <th>75%</th>\n",
       "      <td>4.500000</td>\n",
       "      <td>650.000000</td>\n",
       "      <td>12.365900</td>\n",
       "      <td>5.584500</td>\n",
       "      <td>32.700000</td>\n",
       "      <td>35.500000</td>\n",
       "      <td>39.650000</td>\n",
       "    </tr>\n",
       "    <tr>\n",
       "      <th>max</th>\n",
       "      <td>7.000000</td>\n",
       "      <td>1650.000000</td>\n",
       "      <td>18.957000</td>\n",
       "      <td>8.142000</td>\n",
       "      <td>59.000000</td>\n",
       "      <td>63.400000</td>\n",
       "      <td>68.000000</td>\n",
       "    </tr>\n",
       "  </tbody>\n",
       "</table>\n",
       "</div>"
      ],
      "text/plain": [
       "         Category       Weight      Height       Width     Length1  \\\n",
       "count  159.000000   159.000000  159.000000  159.000000  159.000000   \n",
       "mean     3.264151   398.326415    8.970994    4.417486   26.247170   \n",
       "std      1.704249   357.978317    4.286208    1.685804    9.996441   \n",
       "min      1.000000     0.000000    1.728400    1.047600    7.500000   \n",
       "25%      2.000000   120.000000    5.944800    3.385650   19.050000   \n",
       "50%      3.000000   273.000000    7.786000    4.248500   25.200000   \n",
       "75%      4.500000   650.000000   12.365900    5.584500   32.700000   \n",
       "max      7.000000  1650.000000   18.957000    8.142000   59.000000   \n",
       "\n",
       "          Length2     Length3  \n",
       "count  159.000000  159.000000  \n",
       "mean    28.415723   31.227044  \n",
       "std     10.716328   11.610246  \n",
       "min      8.400000    8.800000  \n",
       "25%     21.000000   23.150000  \n",
       "50%     27.300000   29.400000  \n",
       "75%     35.500000   39.650000  \n",
       "max     63.400000   68.000000  "
      ]
     },
     "execution_count": 12,
     "metadata": {},
     "output_type": "execute_result"
    }
   ],
   "source": [
    "# describing the dataset in horizontal orientation\n",
    "fish_data.describe()"
   ]
  },
  {
   "cell_type": "markdown",
   "id": "28b84258",
   "metadata": {},
   "source": [
    "Exploratory Data Analysis"
   ]
  },
  {
   "cell_type": "code",
   "execution_count": 13,
   "id": "23ea2ecd",
   "metadata": {},
   "outputs": [
    {
     "data": {
      "text/plain": [
       "<AxesSubplot:xlabel='Species'>"
      ]
     },
     "execution_count": 13,
     "metadata": {},
     "output_type": "execute_result"
    },
    {
     "data": {
      "image/png": "[encoded data removed]",
      "text/plain": [
       "<Figure size 432x288 with 1 Axes>"
      ]
     },
     "metadata": {
      "needs_background": "light"
     },
     "output_type": "display_data"
    }
   ],
   "source": [
    "fish_data.groupby('Species').Weight.mean().plot(kind='bar')"
   ]
  },
  {
   "cell_type": "code",
   "execution_count": 14,
   "id": "ce1d1b9b",
   "metadata": {},
   "outputs": [
    {
     "name": "stdout",
     "output_type": "stream",
     "text": [
      "<class 'pandas.core.frame.DataFrame'>\n",
      "RangeIndex: 159 entries, 0 to 158\n",
      "Data columns (total 8 columns):\n",
      " #   Column    Non-Null Count  Dtype  \n",
      "---  ------    --------------  -----  \n",
      " 0   Category  159 non-null    int64  \n",
      " 1   Species   159 non-null    object \n",
      " 2   Weight    159 non-null    float64\n",
      " 3   Height    159 non-null    float64\n",
      " 4   Width     159 non-null    float64\n",
      " 5   Length1   159 non-null    float64\n",
      " 6   Length2   159 non-null    float64\n",
      " 7   Length3   159 non-null    float64\n",
      "dtypes: float64(6), int64(1), object(1)\n",
      "memory usage: 10.1+ KB\n"
     ]
    }
   ],
   "source": [
    "fish_data.info()"
   ]
  },
  {
   "cell_type": "code",
   "execution_count": 15,
   "id": "5c918c04",
   "metadata": {},
   "outputs": [],
   "source": [
    "# dropping Species as not needed\n",
    "fish_data.drop('Species', axis = 1, inplace = True)"
   ]
  },
  {
   "cell_type": "code",
   "execution_count": 16,
   "id": "347e109d",
   "metadata": {},
   "outputs": [
    {
     "name": "stdout",
     "output_type": "stream",
     "text": [
      "<class 'pandas.core.frame.DataFrame'>\n",
      "RangeIndex: 159 entries, 0 to 158\n",
      "Data columns (total 7 columns):\n",
      " #   Column    Non-Null Count  Dtype  \n",
      "---  ------    --------------  -----  \n",
      " 0   Category  159 non-null    int64  \n",
      " 1   Weight    159 non-null    float64\n",
      " 2   Height    159 non-null    float64\n",
      " 3   Width     159 non-null    float64\n",
      " 4   Length1   159 non-null    float64\n",
      " 5   Length2   159 non-null    float64\n",
      " 6   Length3   159 non-null    float64\n",
      "dtypes: float64(6), int64(1)\n",
      "memory usage: 8.8 KB\n"
     ]
    }
   ],
   "source": [
    "fish_data.info()"
   ]
  },
  {
   "cell_type": "markdown",
   "id": "2307b34e",
   "metadata": {},
   "source": [
    "Feature Selection"
   ]
  },
  {
   "cell_type": "code",
   "execution_count": 19,
   "id": "8f414136",
   "metadata": {},
   "outputs": [
    {
     "data": {
      "text/plain": [
       "<AxesSubplot:>"
      ]
     },
     "execution_count": 19,
     "metadata": {},
     "output_type": "execute_result"
    },
    {
     "data": {
      "image/png": "[encoded data removed]",
      "text/plain": [
       "<Figure size 600x400 with 2 Axes>"
      ]
     },
     "metadata": {
      "needs_background": "light"
     },
     "output_type": "display_data"
    }
   ],
   "source": [
    "plt.figure(dpi=100) # size\n",
    "sns.heatmap(fish_data.corr(), annot = True) # diagram\n",
    "# heatmap show correlation between dep and indep variables\n",
    "# width has high positive correlation 0.92 with the Length\n",
    "# hence to improve model accuracy only one of the lengths is choosen avoiding multiple colinearity\n",
    "# Multiple colinearity can affect model accuracy, L1,L2,L3 have high correlation with each other of 0.98\n",
    "# But height and height has 0.72 and can coexist in the model as the range is from 0-1\n",
    "# Only Weight and Length3 will be selected for my multiple linear regression."
   ]
  },
  {
   "cell_type": "markdown",
   "id": "39cb17c9",
   "metadata": {},
   "source": [
    "Building our Model"
   ]
  },
  {
   "cell_type": "code",
   "execution_count": 20,
   "id": "44543a6c",
   "metadata": {},
   "outputs": [],
   "source": [
    "# Splitting the dataset to independent variable X and target or dependent variable Y\n",
    "X = fish_data.drop('Weight', axis = 1)\n",
    "y = fish_data['Weight']"
   ]
  },
  {
   "cell_type": "code",
   "execution_count": 21,
   "id": "aca17026",
   "metadata": {},
   "outputs": [],
   "source": [
    "# Splitting the dataset X and y to training and testing data\n",
    "# X to X_train, X_test and y to y_train, y_test\n",
    "# 0.3 test size means 0.7 percent for training and 0.3 percent for testing\n",
    "X_train, X_test, y_train, y_test = train_test_split(X, y, test_size = 0.3, random_state = 42)"
   ]
  },
  {
   "cell_type": "code",
   "execution_count": 22,
   "id": "82b67cdd",
   "metadata": {},
   "outputs": [
    {
     "data": {
      "text/html": [
       "<div>\n",
       "<style scoped>\n",
       "    .dataframe tbody tr th:only-of-type {\n",
       "        vertical-align: middle;\n",
       "    }\n",
       "\n",
       "    .dataframe tbody tr th {\n",
       "        vertical-align: top;\n",
       "    }\n",
       "\n",
       "    .dataframe thead th {\n",
       "        text-align: right;\n",
       "    }\n",
       "</style>\n",
       "<table border=\"1\" class=\"dataframe\">\n",
       "  <thead>\n",
       "    <tr style=\"text-align: right;\">\n",
       "      <th></th>\n",
       "      <th>Category</th>\n",
       "      <th>Height</th>\n",
       "      <th>Width</th>\n",
       "      <th>Length1</th>\n",
       "      <th>Length2</th>\n",
       "      <th>Length3</th>\n",
       "    </tr>\n",
       "  </thead>\n",
       "  <tbody>\n",
       "    <tr>\n",
       "      <th>85</th>\n",
       "      <td>3</td>\n",
       "      <td>6.3840</td>\n",
       "      <td>3.5340</td>\n",
       "      <td>19.3</td>\n",
       "      <td>21.3</td>\n",
       "      <td>22.8</td>\n",
       "    </tr>\n",
       "    <tr>\n",
       "      <th>81</th>\n",
       "      <td>3</td>\n",
       "      <td>5.0820</td>\n",
       "      <td>2.7720</td>\n",
       "      <td>18.2</td>\n",
       "      <td>20.0</td>\n",
       "      <td>21.0</td>\n",
       "    </tr>\n",
       "    <tr>\n",
       "      <th>112</th>\n",
       "      <td>3</td>\n",
       "      <td>10.8810</td>\n",
       "      <td>6.8640</td>\n",
       "      <td>34.0</td>\n",
       "      <td>36.5</td>\n",
       "      <td>39.0</td>\n",
       "    </tr>\n",
       "    <tr>\n",
       "      <th>11</th>\n",
       "      <td>1</td>\n",
       "      <td>14.3714</td>\n",
       "      <td>4.8146</td>\n",
       "      <td>28.7</td>\n",
       "      <td>31.0</td>\n",
       "      <td>36.2</td>\n",
       "    </tr>\n",
       "    <tr>\n",
       "      <th>109</th>\n",
       "      <td>3</td>\n",
       "      <td>10.0300</td>\n",
       "      <td>6.0180</td>\n",
       "      <td>30.5</td>\n",
       "      <td>32.8</td>\n",
       "      <td>34.0</td>\n",
       "    </tr>\n",
       "  </tbody>\n",
       "</table>\n",
       "</div>"
      ],
      "text/plain": [
       "     Category   Height   Width  Length1  Length2  Length3\n",
       "85          3   6.3840  3.5340     19.3     21.3     22.8\n",
       "81          3   5.0820  2.7720     18.2     20.0     21.0\n",
       "112         3  10.8810  6.8640     34.0     36.5     39.0\n",
       "11          1  14.3714  4.8146     28.7     31.0     36.2\n",
       "109         3  10.0300  6.0180     30.5     32.8     34.0"
      ]
     },
     "execution_count": 22,
     "metadata": {},
     "output_type": "execute_result"
    }
   ],
   "source": [
    "X_train.head()"
   ]
  },
  {
   "cell_type": "markdown",
   "id": "1b263c92",
   "metadata": {},
   "source": [
    "Scaling independent variables X"
   ]
  },
  {
   "cell_type": "code",
   "execution_count": 26,
   "id": "5b1b41ee",
   "metadata": {},
   "outputs": [],
   "source": [
    "# Scaling the dataset to fit between 0-1 or 0-100\n",
    "# X_train and X_test are pandas DataFrame and have a column structure\n",
    "my_scaler = MinMaxScaler() # instantiate the scaler\n",
    "X_train_scaled = my_scaler.fit_transform(X_train)\n",
    "X_test_scaled = my_scaler.fit_transform(X_test)"
   ]
  },
  {
   "cell_type": "code",
   "execution_count": 27,
   "id": "9de978b0",
   "metadata": {},
   "outputs": [
    {
     "data": {
      "text/plain": [
       "array([[0.33333333, 0.26262518, 0.35888255, 0.22912621, 0.23454545,\n",
       "        0.23648649],\n",
       "       [0.33333333, 0.18501431, 0.24424954, 0.20776699, 0.21090909,\n",
       "        0.20608108],\n",
       "       [0.33333333, 0.5306867 , 0.85983783, 0.51456311, 0.51090909,\n",
       "        0.51013514],\n",
       "       [0.        , 0.73874583, 0.5515322 , 0.41165049, 0.41090909,\n",
       "        0.46283784],\n",
       "       [0.33333333, 0.47995947, 0.73256811, 0.44660194, 0.44363636,\n",
       "        0.42567568],\n",
       "       [0.16666667, 0.49878398, 0.37837919, 0.26601942, 0.26545455,\n",
       "        0.28716216],\n",
       "       [0.33333333, 0.62652599, 0.96992764, 0.65242718, 0.64727273,\n",
       "        0.63851351],\n",
       "       [0.        , 0.86664282, 0.70752035, 0.48932039, 0.50181818,\n",
       "        0.55236486],\n",
       "       [0.83333333, 0.        , 0.02057978, 0.06407767, 0.05272727,\n",
       "        0.06418919],\n",
       "       [0.33333333, 0.5933834 , 0.92199841, 0.62718447, 0.62909091,\n",
       "        0.61486486],\n",
       "       [0.66666667, 0.24973176, 0.33807711, 0.22524272, 0.22545455,\n",
       "        0.24155405],\n",
       "       [0.        , 0.62385551, 0.59958179, 0.36893204, 0.37454545,\n",
       "        0.42567568],\n",
       "       [0.5       , 0.31603481, 0.47750214, 0.63106796, 0.62      ,\n",
       "        0.61993243],\n",
       "       [0.        , 1.        , 0.84264288, 0.55728155, 0.56545455,\n",
       "        0.61655405],\n",
       "       [0.5       , 0.41416309, 0.75561506, 0.79223301, 0.78727273,\n",
       "        0.78209459],\n",
       "       [0.33333333, 0.31620172, 0.51416365, 0.34757282, 0.34727273,\n",
       "        0.33952703],\n",
       "       [0.16666667, 0.44216738, 0.34028854, 0.22330097, 0.22363636,\n",
       "        0.24324324],\n",
       "       [0.        , 0.73227229, 0.59509876, 0.40582524, 0.41090909,\n",
       "        0.46283784],\n",
       "       [0.33333333, 0.23694564, 0.37332451, 0.25631068, 0.26      ,\n",
       "        0.26013514],\n",
       "       [0.5       , 0.25692656, 0.43196486, 0.53009709, 0.52545455,\n",
       "        0.52364865],\n",
       "       [0.        , 0.56877682, 0.43199495, 0.30485437, 0.30909091,\n",
       "        0.35810811],\n",
       "       [0.33333333, 0.54592275, 0.73031156, 0.5631068 , 0.55636364,\n",
       "        0.55067568],\n",
       "       [0.16666667, 0.3823319 , 0.26622839, 0.19417476, 0.19272727,\n",
       "        0.21114865],\n",
       "       [0.66666667, 0.27752146, 0.36095858, 0.25242718, 0.24727273,\n",
       "        0.26182432],\n",
       "       [0.33333333, 0.22140558, 0.3789659 , 0.22330097, 0.22909091,\n",
       "        0.23141892],\n",
       "       [0.        , 0.88885312, 0.75970695, 0.49126214, 0.50181818,\n",
       "        0.55405405],\n",
       "       [0.66666667, 0.26806152, 0.33144284, 0.22330097, 0.22      ,\n",
       "        0.23648649],\n",
       "       [0.33333333, 0.56689318, 1.        , 0.48543689, 0.48363636,\n",
       "        0.48141892],\n",
       "       [0.        , 0.85728422, 0.73786349, 0.47184466, 0.48363636,\n",
       "        0.54222973],\n",
       "       [0.        , 0.80414878, 0.74950732, 0.47184466, 0.48363636,\n",
       "        0.53716216],\n",
       "       [0.33333333, 0.51224964, 0.78501046, 0.52621359, 0.52      ,\n",
       "        0.5152027 ],\n",
       "       [0.33333333, 0.21802575, 0.28610112, 0.18834951, 0.19272727,\n",
       "        0.19256757],\n",
       "       [0.66666667, 0.25261087, 0.36493012, 0.21553398, 0.21090909,\n",
       "        0.22635135],\n",
       "       [0.5       , 0.45432761, 0.75152317, 0.94174757, 0.93818182,\n",
       "        0.93243243],\n",
       "       [0.33333333, 0.30242012, 0.47938261, 0.34757282, 0.34727273,\n",
       "        0.33952703],\n",
       "       [0.83333333, 0.00668813, 0.03688716, 0.0776699 , 0.06909091,\n",
       "        0.0777027 ],\n",
       "       [0.5       , 0.26334049, 0.42552615, 0.55339806, 0.54727273,\n",
       "        0.54391892],\n",
       "       [0.66666667, 0.26357892, 0.3988988 , 0.26407767, 0.25636364,\n",
       "        0.27364865],\n",
       "       [0.33333333, 0.59313305, 0.89630376, 0.57087379, 0.57454545,\n",
       "        0.56587838],\n",
       "       [0.16666667, 0.29025393, 0.17722985, 0.11650485, 0.11454545,\n",
       "        0.13006757],\n",
       "       [0.33333333, 0.09238197, 0.12799182, 0.09708738, 0.09636364,\n",
       "        0.09966216],\n",
       "       [0.        , 0.99291845, 0.84228183, 0.58058252, 0.59272727,\n",
       "        0.62668919],\n",
       "       [0.33333333, 0.33603958, 0.54506341, 0.39417476, 0.39272727,\n",
       "        0.38513514],\n",
       "       [0.83333333, 0.01298283, 0.03484121, 0.05631068, 0.04727273,\n",
       "        0.05405405],\n",
       "       [0.33333333, 0.64508822, 0.86049975, 0.61165049, 0.61090909,\n",
       "        0.60472973],\n",
       "       [0.16666667, 0.27414163, 0.17537948, 0.13203883, 0.12909091,\n",
       "        0.14527027],\n",
       "       [0.83333333, 0.05332618, 0.13822153, 0.11067961, 0.10727273,\n",
       "        0.10810811],\n",
       "       [0.33333333, 0.2620887 , 0.40265973, 0.2815534 , 0.28363636,\n",
       "        0.28209459],\n",
       "       [0.33333333, 0.27317597, 0.46494065, 0.31067961, 0.31272727,\n",
       "        0.30743243],\n",
       "       [0.66666667, 0.39281116, 0.54536428, 0.33980583, 0.33818182,\n",
       "        0.36824324],\n",
       "       [0.        , 0.69290653, 0.5685015 , 0.37475728, 0.38727273,\n",
       "        0.4375    ],\n",
       "       [0.33333333, 0.52794468, 0.76966588, 0.52427184, 0.52      ,\n",
       "        0.51689189],\n",
       "       [0.33333333, 0.54582737, 0.82463557, 0.57475728, 0.57454545,\n",
       "        0.56925676],\n",
       "       [0.66666667, 0.29429542, 0.37350503, 0.2815534 , 0.27272727,\n",
       "        0.30236486],\n",
       "       [0.66666667, 0.12929185, 0.16842929, 0.10485437, 0.10363636,\n",
       "        0.125     ],\n",
       "       [0.33333333, 0.18832856, 0.28408527, 0.2       , 0.20363636,\n",
       "        0.2027027 ],\n",
       "       [0.33333333, 0.1933834 , 0.32692973, 0.16893204, 0.17454545,\n",
       "        0.17567568],\n",
       "       [0.        , 0.93260014, 0.78559716, 0.59223301, 0.59272727,\n",
       "        0.63682432],\n",
       "       [0.66666667, 0.27252027, 0.32744122, 0.26213592, 0.25636364,\n",
       "        0.27364865],\n",
       "       [0.        , 0.63732713, 0.53278775, 0.39029126, 0.39272727,\n",
       "        0.44256757],\n",
       "       [0.66666667, 0.22808178, 0.39203887, 0.25048544, 0.24727273,\n",
       "        0.26858108],\n",
       "       [0.16666667, 0.54302575, 0.45064914, 0.30097087, 0.30181818,\n",
       "        0.32432432],\n",
       "       [0.33333333, 0.58129471, 0.91414559, 0.57281553, 0.57454545,\n",
       "        0.56925676],\n",
       "       [0.33333333, 0.4934609 , 0.78815459, 0.47572816, 0.47454545,\n",
       "        0.46790541],\n",
       "       [0.33333333, 0.23115165, 0.37242189, 0.25242718, 0.25636364,\n",
       "        0.25675676],\n",
       "       [0.33333333, 0.2348176 , 0.32480857, 0.22330097, 0.22909091,\n",
       "        0.23141892],\n",
       "       [0.5       , 0.45432761, 0.75152317, 0.94174757, 0.93818182,\n",
       "        0.93243243],\n",
       "       [0.5       , 0.52657368, 0.95250703, 1.        , 1.        ,\n",
       "        1.        ],\n",
       "       [0.33333333, 0.23228422, 0.35752862, 0.24271845, 0.24727273,\n",
       "        0.24831081],\n",
       "       [0.        , 0.71689914, 0.55592496, 0.39029126, 0.39272727,\n",
       "        0.44425676],\n",
       "       [0.33333333, 0.51447902, 0.84130399, 0.51456311, 0.50181818,\n",
       "        0.49831081],\n",
       "       [0.        , 0.71141512, 0.59037504, 0.42718447, 0.42909091,\n",
       "        0.48141892],\n",
       "       [1.        , 0.58315451, 0.81615092, 0.50873786, 0.50909091,\n",
       "        0.52027027],\n",
       "       [0.5       , 0.34619695, 0.59891986, 0.63300971, 0.62909091,\n",
       "        0.625     ],\n",
       "       [0.        , 0.64090367, 0.49751027, 0.36504854, 0.37454545,\n",
       "        0.41722973],\n",
       "       [0.        , 0.77252027, 0.60913454, 0.44466019, 0.44727273,\n",
       "        0.50168919],\n",
       "       [0.66666667, 0.21688126, 0.30481549, 0.20776699, 0.20727273,\n",
       "        0.22635135],\n",
       "       [0.33333333, 0.00797568, 0.03905345, 0.        , 0.        ,\n",
       "        0.        ],\n",
       "       [0.5       , 0.3398784 , 0.63598754, 0.72427184, 0.72      ,\n",
       "        0.71621622],\n",
       "       [0.        , 0.72730687, 0.62131993, 0.37475728, 0.38727273,\n",
       "        0.43412162],\n",
       "       [0.5       , 0.3166309 , 0.51571315, 0.54368932, 0.53818182,\n",
       "        0.53547297],\n",
       "       [0.16666667, 0.32349785, 0.22935628, 0.17087379, 0.16909091,\n",
       "        0.18581081],\n",
       "       [0.66666667, 0.44747258, 0.63282837, 0.42718447, 0.42363636,\n",
       "        0.44256757],\n",
       "       [0.33333333, 0.33422747, 0.52457389, 0.37669903, 0.36909091,\n",
       "        0.3597973 ],\n",
       "       [0.66666667, 0.32299714, 0.44812179, 0.28349515, 0.27454545,\n",
       "        0.30405405],\n",
       "       [0.83333333, 0.01781116, 0.01615694, 0.08932039, 0.08363636,\n",
       "        0.08445946],\n",
       "       [1.        , 0.52252027, 0.81440585, 0.40776699, 0.41090909,\n",
       "        0.42567568],\n",
       "       [0.66666667, 0.33119933, 0.40419418, 0.2815534 , 0.28363636,\n",
       "        0.31081081],\n",
       "       [0.33333333, 0.24629232, 0.35752862, 0.24271845, 0.24727273,\n",
       "        0.24831081],\n",
       "       [0.        , 0.83544349, 0.6351451 , 0.46407767, 0.46545455,\n",
       "        0.51351351],\n",
       "       [1.        , 0.40532904, 0.53152408, 0.35145631, 0.35636364,\n",
       "        0.37162162],\n",
       "       [0.83333333, 0.01348355, 0.        , 0.07572816, 0.06545455,\n",
       "        0.07432432],\n",
       "       [0.5       , 0.2223176 , 0.45275525, 0.46990291, 0.46545455,\n",
       "        0.48986486],\n",
       "       [0.66666667, 0.21443729, 0.26416741, 0.19417476, 0.18909091,\n",
       "        0.20945946],\n",
       "       [0.83333333, 0.00625894, 0.01937629, 0.06213592, 0.05090909,\n",
       "        0.06081081],\n",
       "       [0.        , 0.62600143, 0.47495976, 0.32038835, 0.32545455,\n",
       "        0.37837838],\n",
       "       [0.66666667, 0.41121841, 0.50372332, 0.32038835, 0.32      ,\n",
       "        0.34459459],\n",
       "       [0.5       , 0.23594421, 0.4868142 , 0.48932039, 0.48363636,\n",
       "        0.50675676],\n",
       "       [0.33333333, 0.30931092, 0.47938261, 0.34757282, 0.34727273,\n",
       "        0.33952703],\n",
       "       [0.33333333, 0.26593348, 0.38137289, 0.30097087, 0.30181818,\n",
       "        0.29898649],\n",
       "       [0.33333333, 0.54592275, 0.95452289, 0.5631068 , 0.55636364,\n",
       "        0.55067568],\n",
       "       [0.33333333, 0.21827611, 0.35752862, 0.24271845, 0.24727273,\n",
       "        0.24831081],\n",
       "       [0.33333333, 0.11002623, 0.19310096, 0.1223301 , 0.12      ,\n",
       "        0.12162162],\n",
       "       [0.33333333, 0.62008822, 0.94985934, 0.57281553, 0.57454545,\n",
       "        0.56756757],\n",
       "       [0.83333333, 0.05686695, 0.10993937, 0.1223301 , 0.12      ,\n",
       "        0.125     ],\n",
       "       [0.        , 0.78387577, 0.66509711, 0.46213592, 0.46545455,\n",
       "        0.51858108],\n",
       "       [0.16666667, 0.55971626, 0.46418847, 0.32038835, 0.32      ,\n",
       "        0.34121622],\n",
       "       [0.33333333, 0.3482475 , 0.45970544, 0.35728155, 0.35636364,\n",
       "        0.34797297],\n",
       "       [0.        , 0.77349785, 0.60511787, 0.42524272, 0.42909091,\n",
       "        0.47972973],\n",
       "       [0.33333333, 0.28694564, 0.37242189, 0.25242718, 0.25636364,\n",
       "        0.25675676],\n",
       "       [0.33333333, 0.37820696, 0.60007823, 0.34368932, 0.34363636,\n",
       "        0.33614865]])"
      ]
     },
     "execution_count": 27,
     "metadata": {},
     "output_type": "execute_result"
    }
   ],
   "source": [
    "# the transformed data (X_train_scaled and X_test_scaled) is a NumPy array and does not have column names.\n",
    "X_train_scaled"
   ]
  },
  {
   "cell_type": "code",
   "execution_count": 28,
   "id": "e5b23492",
   "metadata": {},
   "outputs": [],
   "source": [
    "# To preserve the column structure of the original pandas DataFrame (X_train and X_test)\n",
    "# we need to convert the scaled data back into a DataFrame and reassign the column names\n",
    "\n",
    "X_train_scaled = pd.DataFrame(X_train_scaled, columns=X_train.columns)\n",
    "X_test_scaled = pd.DataFrame(X_test_scaled, columns=X_train.columns)"
   ]
  },
  {
   "cell_type": "code",
   "execution_count": 31,
   "id": "c952f026",
   "metadata": {},
   "outputs": [],
   "source": [
    "# Importing Linear Regression Model\n",
    "from sklearn.linear_model import LinearRegression\n",
    "from sklearn.metrics import mean_absolute_error,mean_squared_error,r2_score"
   ]
  },
  {
   "cell_type": "code",
   "execution_count": 32,
   "id": "145727a0",
   "metadata": {},
   "outputs": [],
   "source": [
    "# Instantiating the model\n",
    "my_model = LinearRegression()"
   ]
  },
  {
   "cell_type": "code",
   "execution_count": 33,
   "id": "dd22e607",
   "metadata": {},
   "outputs": [
    {
     "data": {
      "text/plain": [
       "LinearRegression()"
      ]
     },
     "execution_count": 33,
     "metadata": {},
     "output_type": "execute_result"
    }
   ],
   "source": [
    "# fit the model on the X_train and y_train dataset\n",
    "my_model.fit(X_train_scaled, y_train)"
   ]
  },
  {
   "cell_type": "code",
   "execution_count": 34,
   "id": "98c53870",
   "metadata": {},
   "outputs": [],
   "source": [
    "# predicting target value of y_pred to compare with true value y_test\n",
    "y_pred = my_model.predict(X_test_scaled)"
   ]
  },
  {
   "cell_type": "code",
   "execution_count": 35,
   "id": "19fa4989",
   "metadata": {},
   "outputs": [],
   "source": [
    "# testing our model performance\n",
    "# Calculate the error of prediction y_pred from the true or target y_test\n",
    "mean_absolute_err = mean_absolute_error(y_test, y_pred)\n",
    "mean_squared_err = mean_squared_error(y_test, y_pred)"
   ]
  },
  {
   "cell_type": "code",
   "execution_count": 36,
   "id": "e00b5e76",
   "metadata": {},
   "outputs": [
    {
     "name": "stdout",
     "output_type": "stream",
     "text": [
      "The mean absolute error is: 106.93\n",
      "The mean squared error is: 143.32\n",
      "The coefficient of determination is: 0.83\n"
     ]
    }
   ],
   "source": [
    "print(f\"The mean absolute error is: {mean_absolute_err:.2f}\")\n",
    "print(f\"The mean squared error is: {np.sqrt(mean_squared_err):.2f}\")  # RMSE\n",
    "print(f\"The coefficient of determination is: {r2_score(y_test, y_pred):.2f}\")"
   ]
  },
  {
   "cell_type": "markdown",
   "id": "48bb3e9c",
   "metadata": {},
   "source": [
    "We have seen that multivariate Linear Regression performed better than univariate due to many independent variable as opposed to a single independent variable"
   ]
  }
 ],
 "metadata": {
  "kernelspec": {
   "display_name": "Python 3 (ipykernel)",
   "language": "python",
   "name": "python3"
  },
  "language_info": {
   "codemirror_mode": {
    "name": "ipython",
    "version": 3
   },
   "file_extension": ".py",
   "mimetype": "text/x-python",
   "name": "python",
   "nbconvert_exporter": "python",
   "pygments_lexer": "ipython3",
   "version": "3.9.12"
  }
 },
 "nbformat": 4,
 "nbformat_minor": 5
}
